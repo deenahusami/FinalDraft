{
 "cells": [
  {
   "cell_type": "code",
   "execution_count": null,
   "id": "a6bec666",
   "metadata": {},
   "outputs": [],
   "source": [
    "import string\n",
    "import os"
   ]
  },
  {
   "cell_type": "code",
   "execution_count": null,
   "id": "0c8ef5b1",
   "metadata": {},
   "outputs": [],
   "source": [
    "f=open(\"einstein.txt\", \"r\")\n",
    "print(f.read())"
   ]
  },
  {
   "cell_type": "code",
   "execution_count": null,
   "id": "58beddb0",
   "metadata": {},
   "outputs": [],
   "source": [
    "#needs updating\n",
    "def open_file():\n",
    "    filename=input(\"Input a file name: \")\n",
    "\n",
    "    while filename==\"einstein.txt\":\n",
    "        try:\n",
    "            f=open(\"einstein.txt\")\n",
    "            print(f.read())\n",
    "        except:\n",
    "            print(\"Something went wrong when writing to the file\")\n",
    "        finally:\n",
    "            f.close\n",
    "        break\n",
    "    while filename != \"einstein.txt\":\n",
    "        filename=input(\"Try again: \")\n",
    "        try:\n",
    "            f=open(\"einstein.txt\")\n",
    "            print(f.read())\n",
    "        except:\n",
    "            print(\"Something went wrong when writing to the file\")\n",
    "        finally:\n",
    "            f.close  \n",
    "        break"
   ]
  },
  {
   "cell_type": "code",
   "execution_count": 9,
   "id": "3516c525",
   "metadata": {},
   "outputs": [],
   "source": [
    "#works but not correct for final answer\n",
    "def read_data(f):\n",
    "    fp=f.read().replace(\"\\n\",\"\").split(' ')\n",
    "    \n",
    "    for i in range(len(fp)):\n",
    "        for word in fp[i]:\n",
    "            fp[i]=fp[i].replace(word,word.lower())\n",
    "    import string\n",
    "    punctuations = string.punctuation\n",
    "    for i in range(len(fp)):\n",
    "        for word in fp[i]:\n",
    "            if word in punctuations:\n",
    "                fp[i]=fp[i].replace(word,\"\")\n",
    "    for i in range(len(fp)):\n",
    "        for word in fp[i]:\n",
    "            words=[word for word in fp[i] if word.isalpha()]\n",
    "            result=''.join(words)\n",
    "            \n",
    "    return(fp)"
   ]
  },
  {
   "cell_type": "code",
   "execution_count": 10,
   "id": "f74cf42b",
   "metadata": {},
   "outputs": [
    {
     "name": "stdout",
     "output_type": "stream",
     "text": [
      "['try', 'not', 'to', 'become', 'a', 'man', 'of', 'success', 'but', 'rather', 'try', 'to', 'become', 'a', 'man', 'of', 'value', 'look', 'deep', 'into', 'nature', 'and', 'then', 'you', 'will', 'understand', 'everything', 'betterthe', 'true', 'sign', 'of', 'intelligence', 'is', 'not', 'knowledge', 'but', 'imagination', 'we', 'cannot', 'solve', 'our', 'problems', 'with', 'the', 'same', 'thinking', 'we', 'used', 'when', 'we', 'created', 'them', 'weakness', 'of', 'attitude', 'becomes', 'weakness', 'of', 'characteryou', 'cant', 'blame', 'gravity', 'for', 'falling', 'in', 'love', 'the', 'difference', 'between', 'stupidity', 'and', 'genius', 'is', 'that', 'genius', 'has', 'its', 'limits']\n"
     ]
    }
   ],
   "source": [
    "f=open(\"einstein.txt\")\n",
    "fp=read_data(f)\n",
    "print(fp[:-1])"
   ]
  },
  {
   "cell_type": "code",
   "execution_count": 24,
   "id": "9ba409f2",
   "metadata": {},
   "outputs": [],
   "source": [
    "#closest version of 2\n",
    "def read_data(fp):\n",
    "    #fp=open_file()\n",
    "    fp=fp.readlines()\n",
    "    #lowercase\n",
    "    for i in range(len(fp)):\n",
    "        for word in fp[i]:\n",
    "            fp[i]=fp[i].replace(word,word.lower())\n",
    "    #punctuation\n",
    "    import string\n",
    "    punctuations = string.punctuation\n",
    "    for i in range(len(fp)):\n",
    "        for word in fp[i]:\n",
    "            if word in punctuations:\n",
    "                fp[i]=fp[i].replace(word,\"\")\n",
    "    #isalpha\n",
    "    for i in range(len(fp)):\n",
    "        for word in fp[i]:\n",
    "            words=[word for word in fp[i] if word.isalpha()]\n",
    "            result=''.join(words)\n",
    "    #split\n",
    "    split=f.read().replace(\"\\n\",\"\").split(' ')\n",
    "    #dictionary\n",
    "    def dictionary(fp):\n",
    "        words=[]\n",
    "        D={}\n",
    "        for line in fp:\n",
    "            words=words+line.split(' ')\n",
    "        for j in words:\n",
    "            if j not in D:\n",
    "                D[j]=[]\n",
    "                for i in range(len(fp)):\n",
    "                    if j in fp[i]:\n",
    "                        D[j].append(i)\n",
    "        return (D)\n",
    "    c=dictionary(fp)\n",
    "    print(c)\n",
    "    #don't need this print but just to test \n",
    "\n",
    "    return(fp)"
   ]
  },
  {
   "cell_type": "code",
   "execution_count": 26,
   "id": "1b1a9880",
   "metadata": {},
   "outputs": [
    {
     "name": "stdout",
     "output_type": "stream",
     "text": [
      "{'try': [0], 'not': [0, 2, 3], 'to': [0, 1], 'become': [0, 4], 'a': [0, 1, 2, 3, 4, 5, 6], 'man': [0], 'of': [0, 2, 4], 'success': [0], 'but': [0, 2], 'rather': [0], 'value': [0], '\\n': [0, 1, 2, 3, 4, 5, 6], 'look': [1], 'deep': [1], 'into': [1], 'nature': [1], 'and': [1, 6], 'then': [1], 'you': [1, 5], 'will': [1], 'understand': [1], 'everything': [1], 'better\\n': [1], 'the': [0, 1, 2, 3, 6], 'true': [2], 'sign': [2], 'intelligence': [2], 'is': [2, 6], 'knowledge': [2], 'imagination': [2], 'we': [3, 4, 6], 'cannot': [3], 'solve': [3], 'our': [3], 'problems': [3], 'with': [3], 'same': [3], 'thinking': [3], 'used': [3], 'when': [3], 'created': [3], 'them': [3], 'weakness': [4], 'attitude': [4], 'becomes': [4], 'character\\n': [4], 'cant': [5], 'blame': [5], 'gravity': [5], 'for': [5], 'falling': [5], 'in': [1, 2, 3, 5], 'love': [5], 'difference': [6], 'between': [6], 'stupidity': [6], 'genius': [6], 'that': [6], 'has': [6], 'its': [6], 'limits': [6]}\n",
      "['try not to become a man of success but rather try to become a man of value \\n', 'look deep into nature and then you will understand everything better\\n', 'the true sign of intelligence is not knowledge but imagination \\n', 'we cannot solve our problems with the same thinking we used when we created them \\n', 'weakness of attitude becomes weakness of character\\n', 'you cant blame gravity for falling in love \\n', 'the difference between stupidity and genius is that genius has its limits \\n']\n"
     ]
    }
   ],
   "source": [
    "f=open(\"einstein.txt\")\n",
    "fp=read_data(f)\n",
    "print(fp)"
   ]
  },
  {
   "cell_type": "code",
   "execution_count": null,
   "id": "3673c30e",
   "metadata": {},
   "outputs": [],
   "source": [
    "#so close but keeps saying no instead of finding the intersections\n",
    "def find_cooccurance(D, inp_str):\n",
    "    ls=inp_str.split(\" \")\n",
    "    result=set()\n",
    "    print(\"Lines: \")\n",
    "    for i in ls:\n",
    "        if i not in D:\n",
    "            print(\"no\")\n",
    "            return\n",
    "        else:\n",
    "            if len(result)==0:\n",
    "                result.updated(D[i])\n",
    "            else:\n",
    "                result.intersection_update(D[i])\n",
    "    print(\", \".join(st(e) for e in result))"
   ]
  },
  {
   "cell_type": "code",
   "execution_count": null,
   "id": "4f6cb3e2",
   "metadata": {},
   "outputs": [],
   "source": [
    "#to test 3 \n",
    "fp=open(\"einstein.txt\")\n",
    "fp=read_data(fp)\n",
    "print(fp)\n",
    "t=find_cooccurance(D, inp_str)\n",
    "print(t)"
   ]
  },
  {
   "cell_type": "code",
   "execution_count": null,
   "id": "7a527671",
   "metadata": {},
   "outputs": [],
   "source": []
  },
  {
   "cell_type": "code",
   "execution_count": null,
   "id": "c1e520a2",
   "metadata": {},
   "outputs": [],
   "source": [
    "#could be right but need to fix the read_data part so it all connects and can only test when 3 works \n",
    "def main():\n",
    "    fp=open_file()\n",
    "    d=read_data(fp)\n",
    "    inp=\"\"\n",
    "    while True:\n",
    "        inp=input(\"input words: \")\n",
    "        if inp=='q' or inp=='Q':\n",
    "            break\n",
    "        find_cooccurance(d, inp)\n",
    "\n",
    "if __name__==\"__main__\":\n",
    "    main()"
   ]
  }
 ],
 "metadata": {
  "kernelspec": {
   "display_name": "Python 3 (ipykernel)",
   "language": "python",
   "name": "python3"
  },
  "language_info": {
   "codemirror_mode": {
    "name": "ipython",
    "version": 3
   },
   "file_extension": ".py",
   "mimetype": "text/x-python",
   "name": "python",
   "nbconvert_exporter": "python",
   "pygments_lexer": "ipython3",
   "version": "3.9.7"
  }
 },
 "nbformat": 4,
 "nbformat_minor": 5
}
