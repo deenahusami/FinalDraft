{
 "cells": [
  {
   "cell_type": "code",
   "execution_count": 2,
   "id": "d233cb91",
   "metadata": {},
   "outputs": [
    {
     "name": "stdout",
     "output_type": "stream",
     "text": [
      "Try not to become a man of success, but rather try to become a man of value. \n",
      "Look deep into nature, and then you will understand everything better.\n",
      "The true sign of intelligence is not knowledge but imagination. \n",
      "We cannot solve our problems with the same thinking we used when we created them. \n",
      "Weakness of attitude becomes weakness of character.\n",
      "You can't blame gravity for falling in love. \n",
      "The difference between stupidity and genius is that genius has its limits. \n",
      "\n"
     ]
    }
   ],
   "source": [
    "f=open(\"einstein.txt\", \"r\")\n",
    "print(f.read())"
   ]
  },
  {
   "cell_type": "code",
   "execution_count": 12,
   "id": "37c082a5",
   "metadata": {
    "scrolled": true
   },
   "outputs": [
    {
     "ename": "NameError",
     "evalue": "name 'ospath' is not defined",
     "output_type": "error",
     "traceback": [
      "\u001b[0;31m---------------------------------------------------------------------------\u001b[0m",
      "\u001b[0;31mNameError\u001b[0m                                 Traceback (most recent call last)",
      "\u001b[0;32m/var/folders/nh/264yb37x5c1bhvxqm_420lpw0000gp/T/ipykernel_9656/3277484979.py\u001b[0m in \u001b[0;36m<module>\u001b[0;34m\u001b[0m\n\u001b[1;32m     18\u001b[0m \u001b[0;34m\u001b[0m\u001b[0m\n\u001b[1;32m     19\u001b[0m \u001b[0;32mif\u001b[0m \u001b[0m__name__\u001b[0m\u001b[0;34m==\u001b[0m\u001b[0;34m\"__main__\"\u001b[0m\u001b[0;34m:\u001b[0m\u001b[0;34m\u001b[0m\u001b[0;34m\u001b[0m\u001b[0m\n\u001b[0;32m---> 20\u001b[0;31m     \u001b[0meinstein\u001b[0m\u001b[0;34m=\u001b[0m\u001b[0mmain\u001b[0m\u001b[0;34m(\u001b[0m\u001b[0;34m)\u001b[0m\u001b[0;34m\u001b[0m\u001b[0;34m\u001b[0m\u001b[0m\n\u001b[0m\u001b[1;32m     21\u001b[0m     \u001b[0mshoweinstein\u001b[0m\u001b[0;34m(\u001b[0m\u001b[0meinstein\u001b[0m\u001b[0;34m)\u001b[0m\u001b[0;34m\u001b[0m\u001b[0;34m\u001b[0m\u001b[0m\n\u001b[1;32m     22\u001b[0m \u001b[0;34m\u001b[0m\u001b[0m\n",
      "\u001b[0;32m/var/folders/nh/264yb37x5c1bhvxqm_420lpw0000gp/T/ipykernel_9656/3277484979.py\u001b[0m in \u001b[0;36mmain\u001b[0;34m()\u001b[0m\n\u001b[1;32m      2\u001b[0m \u001b[0;32mdef\u001b[0m \u001b[0mmain\u001b[0m\u001b[0;34m(\u001b[0m\u001b[0;34m)\u001b[0m\u001b[0;34m:\u001b[0m\u001b[0;34m\u001b[0m\u001b[0;34m\u001b[0m\u001b[0m\n\u001b[1;32m      3\u001b[0m     \u001b[0mfile_name\u001b[0m\u001b[0;34m=\u001b[0m\u001b[0;34m\"einstein.txt\"\u001b[0m\u001b[0;34m\u001b[0m\u001b[0;34m\u001b[0m\u001b[0m\n\u001b[0;32m----> 4\u001b[0;31m     \u001b[0;32mif\u001b[0m \u001b[0;32mnot\u001b[0m \u001b[0mospath\u001b[0m\u001b[0;34m.\u001b[0m\u001b[0misfile\u001b[0m\u001b[0;34m(\u001b[0m\u001b[0mfile_name\u001b[0m\u001b[0;34m)\u001b[0m\u001b[0;34m:\u001b[0m\u001b[0;34m\u001b[0m\u001b[0;34m\u001b[0m\u001b[0m\n\u001b[0m\u001b[1;32m      5\u001b[0m         \u001b[0mprint\u001b[0m \u001b[0;34m(\u001b[0m\u001b[0;34m\"Input file is not found.\"\u001b[0m\u001b[0;34m)\u001b[0m\u001b[0;34m\u001b[0m\u001b[0;34m\u001b[0m\u001b[0m\n\u001b[1;32m      6\u001b[0m         \u001b[0;32mreturn\u001b[0m\u001b[0;34m[\u001b[0m\u001b[0;34m]\u001b[0m\u001b[0;34m\u001b[0m\u001b[0;34m\u001b[0m\u001b[0m\n",
      "\u001b[0;31mNameError\u001b[0m: name 'ospath' is not defined"
     ]
    }
   ],
   "source": [
    "import os\n",
    "def main():\n",
    "    file_name=\"einstein.txt\"\n",
    "    if not ospath.isfile(file_name):\n",
    "        print (\"Input file is not found.\")\n",
    "        return[]\n",
    "    einstein=[]\n",
    "    with open(file_name, \"r\") as fp:\n",
    "        while True:\n",
    "            line=fp.readline()\n",
    "            if not line:\n",
    "                break \n",
    "            try:\n",
    "                einstein.append(int(line.strip()))\n",
    "            except ValueError:\n",
    "                print (\"Exception\"%line)\n",
    "    return einstein\n",
    "\n",
    "if __name__==\"__main__\":\n",
    "    einstein=main()\n",
    "    showeinstein(einstein)\n",
    "    "
   ]
  },
  {
   "cell_type": "code",
   "execution_count": 48,
   "id": "370ca8c8",
   "metadata": {},
   "outputs": [],
   "source": [
    "def open_file():\n",
    "    filename=input(\"Input a file name: \")\n",
    "\n",
    "    while filename==\"einstein.txt\":\n",
    "        while filename != \"einstein.txt\":\n",
    "            filename=input(\"Try again: \")\n",
    "        try:\n",
    "            f=open(\"einstein.txt\")\n",
    "            print(f.read())\n",
    "        except:\n",
    "            print(\"Something went wrong when writing to the file\")\n",
    "        finally:\n",
    "            f.close\n",
    "        break"
   ]
  },
  {
   "cell_type": "code",
   "execution_count": 49,
   "id": "2d44700c",
   "metadata": {},
   "outputs": [
    {
     "name": "stdout",
     "output_type": "stream",
     "text": [
      "Input a file name: fghjk\n"
     ]
    }
   ],
   "source": [
    "open_file()"
   ]
  },
  {
   "cell_type": "code",
   "execution_count": 58,
   "id": "caf424f7",
   "metadata": {},
   "outputs": [
    {
     "ename": "SyntaxError",
     "evalue": "'break' outside loop (875824650.py, line 12)",
     "output_type": "error",
     "traceback": [
      "\u001b[0;36m  File \u001b[0;32m\"/var/folders/nh/264yb37x5c1bhvxqm_420lpw0000gp/T/ipykernel_9656/875824650.py\"\u001b[0;36m, line \u001b[0;32m12\u001b[0m\n\u001b[0;31m    break\u001b[0m\n\u001b[0m    ^\u001b[0m\n\u001b[0;31mSyntaxError\u001b[0m\u001b[0;31m:\u001b[0m 'break' outside loop\n"
     ]
    }
   ],
   "source": [
    "def open_file():\n",
    "    filename=input(\"Input a file name: \")\n",
    "\n",
    "    try:\n",
    "        f=open(\"einstein.txt\")\n",
    "        print(f.read())\n",
    "    except:\n",
    "        filename=input(\"Try again: \")\n",
    "        print(\"Something went wrong when writing to the file\")\n",
    "    finally:\n",
    "        f.close\n",
    "        break"
   ]
  },
  {
   "cell_type": "code",
   "execution_count": 59,
   "id": "f128de2d",
   "metadata": {},
   "outputs": [
    {
     "name": "stdout",
     "output_type": "stream",
     "text": [
      "Input a file name: fdghjk\n",
      "Try not to become a man of success, but rather try to become a man of value. \n",
      "Look deep into nature, and then you will understand everything better.\n",
      "The true sign of intelligence is not knowledge but imagination. \n",
      "We cannot solve our problems with the same thinking we used when we created them. \n",
      "Weakness of attitude becomes weakness of character.\n",
      "You can't blame gravity for falling in love. \n",
      "The difference between stupidity and genius is that genius has its limits. \n",
      "\n"
     ]
    }
   ],
   "source": [
    "open_file()"
   ]
  },
  {
   "cell_type": "code",
   "execution_count": 65,
   "id": "49e3514f",
   "metadata": {},
   "outputs": [
    {
     "ename": "SyntaxError",
     "evalue": "unexpected EOF while parsing (4182543885.py, line 18)",
     "output_type": "error",
     "traceback": [
      "\u001b[0;36m  File \u001b[0;32m\"/var/folders/nh/264yb37x5c1bhvxqm_420lpw0000gp/T/ipykernel_9656/4182543885.py\"\u001b[0;36m, line \u001b[0;32m18\u001b[0m\n\u001b[0;31m    \u001b[0m\n\u001b[0m    ^\u001b[0m\n\u001b[0;31mSyntaxError\u001b[0m\u001b[0;31m:\u001b[0m unexpected EOF while parsing\n"
     ]
    }
   ],
   "source": [
    "def open_file():\n",
    "    filename=input(\"Input a file name: \")\n",
    "\n",
    "    while True:\n",
    "        filename=input(\"Input a file name: \")\n",
    "        if filename:\n",
    "            f=open(\"einstein.txt\")\n",
    "            print(f.read())\n",
    "        except:\n",
    "            print(\"Something went wrong when writing to the file\")\n",
    "        finally:\n",
    "            f.close\n",
    "        break\n",
    "    while filename != \"einstein.txt\":\n",
    "            filename=input(\"Try again: \")\n",
    "    "
   ]
  },
  {
   "cell_type": "code",
   "execution_count": 62,
   "id": "0dd033f2",
   "metadata": {},
   "outputs": [
    {
     "name": "stdout",
     "output_type": "stream",
     "text": [
      "Input a file name: dfghjk\n",
      "Try again: xfcghjk\n",
      "Try again: gfdhjk\n",
      "Try again: dfghjk\n",
      "Try again: gdfhjk\n",
      "Try again: vxcbnmj,k\n",
      "Try again: einstein.txt\n"
     ]
    }
   ],
   "source": [
    "open_file()"
   ]
  },
  {
   "cell_type": "code",
   "execution_count": 2,
   "id": "2ee561e0",
   "metadata": {},
   "outputs": [],
   "source": [
    "def open_file():\n",
    "    filename=input(\"Input a file name: \")\n",
    "\n",
    "    while filename==\"einstein.txt\":\n",
    "        try:\n",
    "            f=open(\"einstein.txt\")\n",
    "            print(f.read())\n",
    "        except:\n",
    "            print(\"Something went wrong when writing to the file\")\n",
    "        finally:\n",
    "            f.close\n",
    "        break\n",
    "    while filename != \"einstein.txt\":\n",
    "        filename=input(\"Try again: \")\n",
    "        try:\n",
    "            f=open(\"einstein.txt\")\n",
    "            print(f.read())\n",
    "        except:\n",
    "            print(\"Something went wrong when writing to the file\")\n",
    "        finally:\n",
    "            f.close  \n",
    "        break"
   ]
  },
  {
   "cell_type": "code",
   "execution_count": 3,
   "id": "dea8bff9",
   "metadata": {
    "scrolled": true
   },
   "outputs": [
    {
     "name": "stdout",
     "output_type": "stream",
     "text": [
      "Input a file name: ghjk\n",
      "Try again: fghjk\n",
      "Try not to become a man of success, but rather try to become a man of value. \n",
      "Look deep into nature, and then you will understand everything better.\n",
      "The true sign of intelligence is not knowledge but imagination. \n",
      "We cannot solve our problems with the same thinking we used when we created them. \n",
      "Weakness of attitude becomes weakness of character.\n",
      "You can't blame gravity for falling in love. \n",
      "The difference between stupidity and genius is that genius has its limits. \n",
      "\n"
     ]
    }
   ],
   "source": [
    "open_file()"
   ]
  },
  {
   "cell_type": "code",
   "execution_count": 58,
   "id": "503471c0",
   "metadata": {},
   "outputs": [
    {
     "name": "stdout",
     "output_type": "stream",
     "text": [
      "Input a file name: einstein.txt\n",
      "Try not to become a man of success, but rather try to become a man of value. \n",
      "Look deep into nature, and then you will understand everything better.\n",
      "The true sign of intelligence is not knowledge but imagination. \n",
      "We cannot solve our problems with the same thinking we used when we created them. \n",
      "Weakness of attitude becomes weakness of character.\n",
      "You can't blame gravity for falling in love. \n",
      "The difference between stupidity and genius is that genius has its limits. \n",
      "\n"
     ]
    }
   ],
   "source": [
    "var=open_file()"
   ]
  },
  {
   "cell_type": "code",
   "execution_count": 59,
   "id": "8220877c",
   "metadata": {
    "scrolled": true
   },
   "outputs": [
    {
     "ename": "ValueError",
     "evalue": "I/O operation on closed file.",
     "output_type": "error",
     "traceback": [
      "\u001b[0;31m---------------------------------------------------------------------------\u001b[0m",
      "\u001b[0;31mValueError\u001b[0m                                Traceback (most recent call last)",
      "\u001b[0;32m/var/folders/nh/264yb37x5c1bhvxqm_420lpw0000gp/T/ipykernel_2841/2152103098.py\u001b[0m in \u001b[0;36m<module>\u001b[0;34m\u001b[0m\n\u001b[1;32m      4\u001b[0m         \u001b[0mprint\u001b[0m\u001b[0;34m(\u001b[0m\u001b[0mline\u001b[0m\u001b[0;34m)\u001b[0m\u001b[0;34m\u001b[0m\u001b[0;34m\u001b[0m\u001b[0m\n\u001b[1;32m      5\u001b[0m \u001b[0;34m\u001b[0m\u001b[0m\n\u001b[0;32m----> 6\u001b[0;31m \u001b[0mread_data\u001b[0m\u001b[0;34m(\u001b[0m\u001b[0mvar\u001b[0m\u001b[0;34m)\u001b[0m\u001b[0;34m\u001b[0m\u001b[0;34m\u001b[0m\u001b[0m\n\u001b[0m",
      "\u001b[0;32m/var/folders/nh/264yb37x5c1bhvxqm_420lpw0000gp/T/ipykernel_2841/2152103098.py\u001b[0m in \u001b[0;36mread_data\u001b[0;34m(fp)\u001b[0m\n\u001b[1;32m      1\u001b[0m \u001b[0;32mdef\u001b[0m \u001b[0mread_data\u001b[0m\u001b[0;34m(\u001b[0m\u001b[0mfp\u001b[0m\u001b[0;34m)\u001b[0m\u001b[0;34m:\u001b[0m\u001b[0;34m\u001b[0m\u001b[0;34m\u001b[0m\u001b[0m\n\u001b[0;32m----> 2\u001b[0;31m     \u001b[0;32mfor\u001b[0m \u001b[0mline\u001b[0m \u001b[0;32min\u001b[0m \u001b[0mfileinput\u001b[0m\u001b[0;34m:\u001b[0m\u001b[0;34m\u001b[0m\u001b[0;34m\u001b[0m\u001b[0m\n\u001b[0m\u001b[1;32m      3\u001b[0m         \u001b[0mline\u001b[0m\u001b[0;34m=\u001b[0m\u001b[0mline\u001b[0m\u001b[0;34m.\u001b[0m\u001b[0mlower\u001b[0m\u001b[0;34m(\u001b[0m\u001b[0;34m)\u001b[0m\u001b[0;34m\u001b[0m\u001b[0;34m\u001b[0m\u001b[0m\n\u001b[1;32m      4\u001b[0m         \u001b[0mprint\u001b[0m\u001b[0;34m(\u001b[0m\u001b[0mline\u001b[0m\u001b[0;34m)\u001b[0m\u001b[0;34m\u001b[0m\u001b[0;34m\u001b[0m\u001b[0m\n\u001b[1;32m      5\u001b[0m \u001b[0;34m\u001b[0m\u001b[0m\n",
      "\u001b[0;31mValueError\u001b[0m: I/O operation on closed file."
     ]
    }
   ],
   "source": [
    "def read_data(fp):\n",
    "    for line in fileinput:\n",
    "        line=line.lower()\n",
    "        print(line)\n",
    "        \n",
    "read_data(var)"
   ]
  },
  {
   "cell_type": "code",
   "execution_count": null,
   "id": "d804e0cb",
   "metadata": {},
   "outputs": [],
   "source": []
  },
  {
   "cell_type": "code",
   "execution_count": 50,
   "id": "839d986b",
   "metadata": {},
   "outputs": [
    {
     "name": "stdout",
     "output_type": "stream",
     "text": [
      "try not to become a man of success, but rather try to become a man of value. \n",
      "\n",
      "look deep into nature, and then you will understand everything better.\n",
      "\n",
      "the true sign of intelligence is not knowledge but imagination. \n",
      "\n",
      "we cannot solve our problems with the same thinking we used when we created them. \n",
      "\n",
      "weakness of attitude becomes weakness of character.\n",
      "\n",
      "you can't blame gravity for falling in love. \n",
      "\n",
      "the difference between stupidity and genius is that genius has its limits. \n",
      "\n"
     ]
    }
   ],
   "source": [
    "with open(\"einstein.txt\", \"r\") as fileinput:\n",
    "    for line in fileinput:\n",
    "        line=line.lower()\n",
    "        print(line)"
   ]
  },
  {
   "cell_type": "code",
   "execution_count": 23,
   "id": "59a7463f",
   "metadata": {
    "scrolled": true
   },
   "outputs": [
    {
     "name": "stdout",
     "output_type": "stream",
     "text": [
      "['try', 'not', 'to', 'become', 'a', 'man', 'of', 'success,', 'but', 'rather', 'try', 'to', 'become', 'a', 'man', 'of', 'value.']\n",
      "['look', 'deep', 'into', 'nature,', 'and', 'then', 'you', 'will', 'understand', 'everything', 'better.']\n",
      "['the', 'true', 'sign', 'of', 'intelligence', 'is', 'not', 'knowledge', 'but', 'imagination.']\n",
      "['we', 'cannot', 'solve', 'our', 'problems', 'with', 'the', 'same', 'thinking', 'we', 'used', 'when', 'we', 'created', 'them.']\n",
      "['weakness', 'of', 'attitude', 'becomes', 'weakness', 'of', 'character.']\n",
      "['you', \"can't\", 'blame', 'gravity', 'for', 'falling', 'in', 'love.']\n",
      "['the', 'difference', 'between', 'stupidity', 'and', 'genius', 'is', 'that', 'genius', 'has', 'its', 'limits.']\n"
     ]
    }
   ],
   "source": [
    "with open(\"einstein.txt\", \"r\") as fileinput:\n",
    "    for line in fileinput:\n",
    "        line=line.lower()\n",
    "        print(line.split())"
   ]
  },
  {
   "cell_type": "code",
   "execution_count": 41,
   "id": "e019b9ca",
   "metadata": {},
   "outputs": [
    {
     "name": "stdout",
     "output_type": "stream",
     "text": [
      "Try not to become a man of success, but rather try to become a man of value. \n",
      "Look deep into nature, and then you will understand everything better.\n",
      "The true sign of intelligence is not knowledge but imagination. \n",
      "We cannot solve our problems with the same thinking we used when we created them. \n",
      "Weakness of attitude becomes weakness of character.\n",
      "You can't blame gravity for falling in love. \n",
      "The difference between stupidity and genius is that genius has its limits. \n",
      "\n"
     ]
    }
   ],
   "source": [
    "import collections \n",
    "import string \n",
    "res=[]\n",
    "for word in \"einstein.txt\":\n",
    "    if not word.isalpha():\n",
    "        res.append(word[:-1])\n",
    "        break\n",
    "    else:\n",
    "        f=open(\"einstein.txt\", \"r\")\n",
    "        print(f.read())\n",
    "        break"
   ]
  },
  {
   "cell_type": "code",
   "execution_count": 45,
   "id": "da3f3389",
   "metadata": {},
   "outputs": [
    {
     "name": "stdout",
     "output_type": "stream",
     "text": [
      "['einstein.txt']\n"
     ]
    }
   ],
   "source": [
    "words=(\"einstein.txt\", \"r\")\n",
    "result_words=[x for x in words if len(x)>3]\n",
    "print(result_words)"
   ]
  },
  {
   "cell_type": "code",
   "execution_count": null,
   "id": "63393ec2",
   "metadata": {},
   "outputs": [],
   "source": [
    "f=open(\"einstein.txt\", \"r\")\n",
    "for x in f.read():\n",
    "    y=x.lower()\n",
    "    f1=open(\"eintstein2.txt\", \"a\")\n",
    "    f1.write(y)"
   ]
  },
  {
   "cell_type": "code",
   "execution_count": null,
   "id": "9de9d0f3",
   "metadata": {},
   "outputs": [],
   "source": [
    "def find_cooccurance():\n",
    "    #insert dictionary code from read file so the dictionarry is a part of it\n",
    "    def inp_str():\n",
    "        while words >= 0:\n",
    "            print(line.split())\n",
    "            #find line number of each word\n",
    "        #intersection vs union (two vs more than two)\n",
    "find_cooccurance(D, inp_str)\n"
   ]
  }
 ],
 "metadata": {
  "kernelspec": {
   "display_name": "Python 3 (ipykernel)",
   "language": "python",
   "name": "python3"
  },
  "language_info": {
   "codemirror_mode": {
    "name": "ipython",
    "version": 3
   },
   "file_extension": ".py",
   "mimetype": "text/x-python",
   "name": "python",
   "nbconvert_exporter": "python",
   "pygments_lexer": "ipython3",
   "version": "3.9.7"
  }
 },
 "nbformat": 4,
 "nbformat_minor": 5
}
