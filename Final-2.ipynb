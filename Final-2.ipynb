{
 "cells": [
  {
   "cell_type": "code",
   "execution_count": null,
   "id": "12d150eb",
   "metadata": {},
   "outputs": [],
   "source": [
    "import string\n",
    "import os"
   ]
  },
  {
   "cell_type": "code",
   "execution_count": 2,
   "id": "d233cb91",
   "metadata": {},
   "outputs": [
    {
     "name": "stdout",
     "output_type": "stream",
     "text": [
      "Try not to become a man of success, but rather try to become a man of value. \n",
      "Look deep into nature, and then you will understand everything better.\n",
      "The true sign of intelligence is not knowledge but imagination. \n",
      "We cannot solve our problems with the same thinking we used when we created them. \n",
      "Weakness of attitude becomes weakness of character.\n",
      "You can't blame gravity for falling in love. \n",
      "The difference between stupidity and genius is that genius has its limits. \n",
      "\n"
     ]
    }
   ],
   "source": [
    "f=open(\"einstein.txt\", \"r\")\n",
    "print(f.read())"
   ]
  },
  {
   "cell_type": "code",
   "execution_count": 12,
   "id": "37c082a5",
   "metadata": {
    "scrolled": true
   },
   "outputs": [
    {
     "ename": "NameError",
     "evalue": "name 'ospath' is not defined",
     "output_type": "error",
     "traceback": [
      "\u001b[0;31m---------------------------------------------------------------------------\u001b[0m",
      "\u001b[0;31mNameError\u001b[0m                                 Traceback (most recent call last)",
      "\u001b[0;32m/var/folders/nh/264yb37x5c1bhvxqm_420lpw0000gp/T/ipykernel_9656/3277484979.py\u001b[0m in \u001b[0;36m<module>\u001b[0;34m\u001b[0m\n\u001b[1;32m     18\u001b[0m \u001b[0;34m\u001b[0m\u001b[0m\n\u001b[1;32m     19\u001b[0m \u001b[0;32mif\u001b[0m \u001b[0m__name__\u001b[0m\u001b[0;34m==\u001b[0m\u001b[0;34m\"__main__\"\u001b[0m\u001b[0;34m:\u001b[0m\u001b[0;34m\u001b[0m\u001b[0;34m\u001b[0m\u001b[0m\n\u001b[0;32m---> 20\u001b[0;31m     \u001b[0meinstein\u001b[0m\u001b[0;34m=\u001b[0m\u001b[0mmain\u001b[0m\u001b[0;34m(\u001b[0m\u001b[0;34m)\u001b[0m\u001b[0;34m\u001b[0m\u001b[0;34m\u001b[0m\u001b[0m\n\u001b[0m\u001b[1;32m     21\u001b[0m     \u001b[0mshoweinstein\u001b[0m\u001b[0;34m(\u001b[0m\u001b[0meinstein\u001b[0m\u001b[0;34m)\u001b[0m\u001b[0;34m\u001b[0m\u001b[0;34m\u001b[0m\u001b[0m\n\u001b[1;32m     22\u001b[0m \u001b[0;34m\u001b[0m\u001b[0m\n",
      "\u001b[0;32m/var/folders/nh/264yb37x5c1bhvxqm_420lpw0000gp/T/ipykernel_9656/3277484979.py\u001b[0m in \u001b[0;36mmain\u001b[0;34m()\u001b[0m\n\u001b[1;32m      2\u001b[0m \u001b[0;32mdef\u001b[0m \u001b[0mmain\u001b[0m\u001b[0;34m(\u001b[0m\u001b[0;34m)\u001b[0m\u001b[0;34m:\u001b[0m\u001b[0;34m\u001b[0m\u001b[0;34m\u001b[0m\u001b[0m\n\u001b[1;32m      3\u001b[0m     \u001b[0mfile_name\u001b[0m\u001b[0;34m=\u001b[0m\u001b[0;34m\"einstein.txt\"\u001b[0m\u001b[0;34m\u001b[0m\u001b[0;34m\u001b[0m\u001b[0m\n\u001b[0;32m----> 4\u001b[0;31m     \u001b[0;32mif\u001b[0m \u001b[0;32mnot\u001b[0m \u001b[0mospath\u001b[0m\u001b[0;34m.\u001b[0m\u001b[0misfile\u001b[0m\u001b[0;34m(\u001b[0m\u001b[0mfile_name\u001b[0m\u001b[0;34m)\u001b[0m\u001b[0;34m:\u001b[0m\u001b[0;34m\u001b[0m\u001b[0;34m\u001b[0m\u001b[0m\n\u001b[0m\u001b[1;32m      5\u001b[0m         \u001b[0mprint\u001b[0m \u001b[0;34m(\u001b[0m\u001b[0;34m\"Input file is not found.\"\u001b[0m\u001b[0;34m)\u001b[0m\u001b[0;34m\u001b[0m\u001b[0;34m\u001b[0m\u001b[0m\n\u001b[1;32m      6\u001b[0m         \u001b[0;32mreturn\u001b[0m\u001b[0;34m[\u001b[0m\u001b[0;34m]\u001b[0m\u001b[0;34m\u001b[0m\u001b[0;34m\u001b[0m\u001b[0m\n",
      "\u001b[0;31mNameError\u001b[0m: name 'ospath' is not defined"
     ]
    }
   ],
   "source": [
    "import os\n",
    "def main():\n",
    "    file_name=\"einstein.txt\"\n",
    "    if not ospath.isfile(file_name):\n",
    "        print (\"Input file is not found.\")\n",
    "        return[]\n",
    "    einstein=[]\n",
    "    with open(file_name, \"r\") as fp:\n",
    "        while True:\n",
    "            line=fp.readline()\n",
    "            if not line:\n",
    "                break \n",
    "            try:\n",
    "                einstein.append(int(line.strip()))\n",
    "            except ValueEr\n",
    "            ror:\n",
    "                print (\"Exception\"%line)\n",
    "    return einstein\n",
    "\n",
    "if __name__==\"__main__\":\n",
    "    einstein=main()\n",
    "    showeinstein(einstein)\n",
    "    "
   ]
  },
  {
   "cell_type": "code",
   "execution_count": 48,
   "id": "370ca8c8",
   "metadata": {},
   "outputs": [],
   "source": [
    "def open_file():\n",
    "    filename=input(\"Input a file name: \")\n",
    "\n",
    "    while filename==\"einstein.txt\":\n",
    "        while filename != \"einstein.txt\":\n",
    "            filename=input(\"Try again: \")\n",
    "        try:\n",
    "            f=open(\"einstein.txt\")\n",
    "            print(f.read())\n",
    "        except:\n",
    "            print(\"Something went wrong when writing to the file\")\n",
    "        finally:\n",
    "            f.close\n",
    "        break"
   ]
  },
  {
   "cell_type": "code",
   "execution_count": 49,
   "id": "2d44700c",
   "metadata": {},
   "outputs": [
    {
     "name": "stdout",
     "output_type": "stream",
     "text": [
      "Input a file name: fghjk\n"
     ]
    }
   ],
   "source": [
    "open_file()"
   ]
  },
  {
   "cell_type": "code",
   "execution_count": 58,
   "id": "caf424f7",
   "metadata": {},
   "outputs": [
    {
     "ename": "SyntaxError",
     "evalue": "'break' outside loop (875824650.py, line 12)",
     "output_type": "error",
     "traceback": [
      "\u001b[0;36m  File \u001b[0;32m\"/var/folders/nh/264yb37x5c1bhvxqm_420lpw0000gp/T/ipykernel_9656/875824650.py\"\u001b[0;36m, line \u001b[0;32m12\u001b[0m\n\u001b[0;31m    break\u001b[0m\n\u001b[0m    ^\u001b[0m\n\u001b[0;31mSyntaxError\u001b[0m\u001b[0;31m:\u001b[0m 'break' outside loop\n"
     ]
    }
   ],
   "source": [
    "def open_file():\n",
    "    filename=input(\"Input a file name: \")\n",
    "\n",
    "    try:\n",
    "        f=open(\"einstein.txt\")\n",
    "        print(f.read())\n",
    "    except:\n",
    "        filename=input(\"Try again: \")\n",
    "        print(\"Something went wrong when writing to the file\")\n",
    "    finally:\n",
    "        f.close\n",
    "        break"
   ]
  },
  {
   "cell_type": "code",
   "execution_count": 22,
   "id": "f128de2d",
   "metadata": {},
   "outputs": [
    {
     "ename": "NameError",
     "evalue": "name 'open_file' is not defined",
     "output_type": "error",
     "traceback": [
      "\u001b[0;31m---------------------------------------------------------------------------\u001b[0m",
      "\u001b[0;31mNameError\u001b[0m                                 Traceback (most recent call last)",
      "\u001b[0;32m/var/folders/nh/264yb37x5c1bhvxqm_420lpw0000gp/T/ipykernel_84878/122255451.py\u001b[0m in \u001b[0;36m<module>\u001b[0;34m\u001b[0m\n\u001b[0;32m----> 1\u001b[0;31m \u001b[0mopen_file\u001b[0m\u001b[0;34m(\u001b[0m\u001b[0;34m)\u001b[0m\u001b[0;34m\u001b[0m\u001b[0;34m\u001b[0m\u001b[0m\n\u001b[0m",
      "\u001b[0;31mNameError\u001b[0m: name 'open_file' is not defined"
     ]
    }
   ],
   "source": [
    "open_file()"
   ]
  },
  {
   "cell_type": "code",
   "execution_count": 65,
   "id": "49e3514f",
   "metadata": {},
   "outputs": [
    {
     "ename": "SyntaxError",
     "evalue": "unexpected EOF while parsing (4182543885.py, line 18)",
     "output_type": "error",
     "traceback": [
      "\u001b[0;36m  File \u001b[0;32m\"/var/folders/nh/264yb37x5c1bhvxqm_420lpw0000gp/T/ipykernel_9656/4182543885.py\"\u001b[0;36m, line \u001b[0;32m18\u001b[0m\n\u001b[0;31m    \u001b[0m\n\u001b[0m    ^\u001b[0m\n\u001b[0;31mSyntaxError\u001b[0m\u001b[0;31m:\u001b[0m unexpected EOF while parsing\n"
     ]
    }
   ],
   "source": [
    "def open_file():\n",
    "    filename=input(\"Input a file name: \")\n",
    "\n",
    "    while True:\n",
    "        filename=input(\"Input a file name: \")\n",
    "        if filename:\n",
    "            f=open(\"einstein.txt\")\n",
    "            print(f.read())\n",
    "        except:\n",
    "            print(\"Something went wrong when writing to the file\")\n",
    "        finally:\n",
    "            f.close\n",
    "        break\n",
    "    while filename != \"einstein.txt\":\n",
    "            filename=input(\"Try again: \")\n",
    "    "
   ]
  },
  {
   "cell_type": "code",
   "execution_count": 21,
   "id": "0dd033f2",
   "metadata": {},
   "outputs": [
    {
     "ename": "NameError",
     "evalue": "name 'open_file' is not defined",
     "output_type": "error",
     "traceback": [
      "\u001b[0;31m---------------------------------------------------------------------------\u001b[0m",
      "\u001b[0;31mNameError\u001b[0m                                 Traceback (most recent call last)",
      "\u001b[0;32m/var/folders/nh/264yb37x5c1bhvxqm_420lpw0000gp/T/ipykernel_84878/122255451.py\u001b[0m in \u001b[0;36m<module>\u001b[0;34m\u001b[0m\n\u001b[0;32m----> 1\u001b[0;31m \u001b[0mopen_file\u001b[0m\u001b[0;34m(\u001b[0m\u001b[0;34m)\u001b[0m\u001b[0;34m\u001b[0m\u001b[0;34m\u001b[0m\u001b[0m\n\u001b[0m",
      "\u001b[0;31mNameError\u001b[0m: name 'open_file' is not defined"
     ]
    }
   ],
   "source": [
    "open_file()"
   ]
  },
  {
   "cell_type": "code",
   "execution_count": 23,
   "id": "a235a7bb",
   "metadata": {},
   "outputs": [
    {
     "name": "stdout",
     "output_type": "stream",
     "text": [
      "Input a file name: einstein.txt\n",
      "Try not to become a man of success, but rather try to become a man of value. \n",
      "Look deep into nature, and then you will understand everything better.\n",
      "The true sign of intelligence is not knowledge but imagination. \n",
      "We cannot solve our problems with the same thinking we used when we created them. \n",
      "Weakness of attitude becomes weakness of character.\n",
      "You can't blame gravity for falling in love. \n",
      "The difference between stupidity and genius is that genius has its limits. \n",
      "\n"
     ]
    },
    {
     "ename": "AttributeError",
     "evalue": "'function' object has no attribute 'isalpha'",
     "output_type": "error",
     "traceback": [
      "\u001b[0;31m---------------------------------------------------------------------------\u001b[0m",
      "\u001b[0;31mAttributeError\u001b[0m                            Traceback (most recent call last)",
      "\u001b[0;32m/var/folders/nh/264yb37x5c1bhvxqm_420lpw0000gp/T/ipykernel_84878/1939497829.py\u001b[0m in \u001b[0;36m<module>\u001b[0;34m\u001b[0m\n\u001b[1;32m     23\u001b[0m     \u001b[0;32mreturn\u001b[0m \u001b[0mf\u001b[0m\u001b[0;34m\u001b[0m\u001b[0;34m\u001b[0m\u001b[0m\n\u001b[1;32m     24\u001b[0m \u001b[0mopen_file\u001b[0m\u001b[0;34m(\u001b[0m\u001b[0;34m)\u001b[0m\u001b[0;34m\u001b[0m\u001b[0;34m\u001b[0m\u001b[0m\n\u001b[0;32m---> 25\u001b[0;31m \u001b[0mprint\u001b[0m\u001b[0;34m(\u001b[0m\u001b[0mopen_file\u001b[0m\u001b[0;34m.\u001b[0m\u001b[0misalpha\u001b[0m\u001b[0;34m)\u001b[0m\u001b[0;34m\u001b[0m\u001b[0;34m\u001b[0m\u001b[0m\n\u001b[0m",
      "\u001b[0;31mAttributeError\u001b[0m: 'function' object has no attribute 'isalpha'"
     ]
    }
   ],
   "source": [
    "def open_file():\n",
    "    filename=input(\"Input a file name: \")\n",
    "\n",
    "    while filename==\"einstein.txt\":\n",
    "        try:\n",
    "            f=open(\"einstein.txt\")\n",
    "            print(f.read())\n",
    "        except:\n",
    "            print(\"Something went wrong when writing to the file\")\n",
    "        finally:\n",
    "            f.close\n",
    "        break\n",
    "    while filename != \"einstein.txt\":\n",
    "        filename=input(\"Try again: \")\n",
    "        try:\n",
    "            f=open(\"einstein.txt\")\n",
    "            print(f.read())\n",
    "        except:\n",
    "            print(\"Something went wrong when writing to the file\")\n",
    "        finally:\n",
    "            f.close  \n",
    "        break  \n",
    "    return f\n",
    "open_file()\n",
    "print(open_file.isalpha)"
   ]
  },
  {
   "cell_type": "code",
   "execution_count": null,
   "id": "73b58a5d",
   "metadata": {},
   "outputs": [],
   "source": [
    "fp=openfile()\n",
    "data=read_data(fp)"
   ]
  },
  {
   "cell_type": "code",
   "execution_count": 1,
   "id": "2ee561e0",
   "metadata": {},
   "outputs": [],
   "source": [
    "def open_file():\n",
    "    filename=input(\"Input a file name: \")\n",
    "\n",
    "    while filename==\"einstein.txt\":\n",
    "        try:\n",
    "            f=open(\"einstein.txt\")\n",
    "            print(f.read())\n",
    "        except:\n",
    "            print(\"Something went wrong when writing to the file\")\n",
    "        finally:\n",
    "            f.close\n",
    "        break\n",
    "    while filename != \"einstein.txt\":\n",
    "        filename=input(\"Try again: \")\n",
    "        try:\n",
    "            f=open(\"einstein.txt\")\n",
    "            print(f.read())\n",
    "        except:\n",
    "            print(\"Something went wrong when writing to the file\")\n",
    "        finally:\n",
    "            f.close  \n",
    "        break"
   ]
  },
  {
   "cell_type": "code",
   "execution_count": 20,
   "id": "dea8bff9",
   "metadata": {
    "scrolled": false
   },
   "outputs": [
    {
     "ename": "NameError",
     "evalue": "name 'open_file' is not defined",
     "output_type": "error",
     "traceback": [
      "\u001b[0;31m---------------------------------------------------------------------------\u001b[0m",
      "\u001b[0;31mNameError\u001b[0m                                 Traceback (most recent call last)",
      "\u001b[0;32m/var/folders/nh/264yb37x5c1bhvxqm_420lpw0000gp/T/ipykernel_84878/4097519448.py\u001b[0m in \u001b[0;36m<module>\u001b[0;34m\u001b[0m\n\u001b[0;32m----> 1\u001b[0;31m \u001b[0mopen_file\u001b[0m\u001b[0;34m\u001b[0m\u001b[0;34m\u001b[0m\u001b[0m\n\u001b[0m",
      "\u001b[0;31mNameError\u001b[0m: name 'open_file' is not defined"
     ]
    }
   ],
   "source": [
    "open_file\n"
   ]
  },
  {
   "cell_type": "code",
   "execution_count": 53,
   "id": "0f6dfe52",
   "metadata": {},
   "outputs": [
    {
     "name": "stdout",
     "output_type": "stream",
     "text": [
      "try not to become a man of success but rather try to become a man of value look deep into nature and then you will understand everything betterthe true sign of intelligence is not knowledge but imagination we cannot solve our problems with the same thinking we used when we created them weakness of attitude becomes weakness of characteryou cant blame gravity for falling in love the difference between stupidity and genius is that genius has its limits \n"
     ]
    }
   ],
   "source": [
    "f=open(\"einstein.txt\")\n",
    "fp=read_data(f)\n",
    "print(fp)"
   ]
  },
  {
   "cell_type": "code",
   "execution_count": 52,
   "id": "82de547c",
   "metadata": {},
   "outputs": [],
   "source": [
    "def read_data(f):\n",
    "    fp=f.read().replace(\"\\n\",\"\")\n",
    "    for word in fp:\n",
    "        fp=fp.replace(word,word.lower())\n",
    "#         word = word.lower()\n",
    "#         print(word.lower())\n",
    "    import string\n",
    "    punctuations = string.punctuation\n",
    "    for line in fp:\n",
    "        if line in punctuations:\n",
    "            fp=fp.replace(line,\"\")\n",
    "    return(fp)\n",
    "#             del(punctuations) \n",
    "        \n",
    "# read_data(var)"
   ]
  },
  {
   "cell_type": "code",
   "execution_count": 132,
   "id": "46697e87",
   "metadata": {},
   "outputs": [],
   "source": [
    "def read_data(f):\n",
    "    fp=f.read().replace(\"\\n\",\"\").split(' ')\n",
    "    \n",
    "    for i in range(len(fp)):\n",
    "        for word in fp[i]:\n",
    "            fp[i]=fp[i].replace(word,word.lower())\n",
    "\n",
    "    import string\n",
    "    punctuations = string.punctuation\n",
    "    for i in range(len(fp)):\n",
    "        for word in fp[i]:\n",
    "            if word in punctuations:\n",
    "                fp[i]=fp[i].replace(word,\"\")\n",
    "    for i in range(len(fp)):\n",
    "        for word in fp[i]:\n",
    "            words=[word for word in fp[i] if word.isalpha()]\n",
    "            result=''.join(words)\n",
    "        print(result, end=', ')\n",
    "    for i in range(len(fp)): \n",
    "        for word in fp[i]:\n",
    "            words2=[word for word in fp[i] if len(word)>=2]\n",
    "            result2=' '.join(words2)\n",
    "            print(result2)\n",
    "            \n",
    "    return(fp)"
   ]
  },
  {
   "cell_type": "code",
   "execution_count": 27,
   "id": "22d05295",
   "metadata": {},
   "outputs": [
    {
     "data": {
      "text/plain": [
       "'!\"#$%&\\'()*+,-./:;<=>?@[\\\\]^_`{|}~'"
      ]
     },
     "execution_count": 27,
     "metadata": {},
     "output_type": "execute_result"
    }
   ],
   "source": [
    "import string\n",
    "punctuations = string.punctuation\n",
    "punctuations"
   ]
  },
  {
   "cell_type": "code",
   "execution_count": 301,
   "id": "d2a897e2",
   "metadata": {},
   "outputs": [],
   "source": [
    "def read_data(fp):\n",
    "    #fp=open_file()\n",
    "    fp=fp.readlines()\n",
    "    \n",
    "    for i in range(len(fp)):\n",
    "        for word in fp[i]:\n",
    "            fp[i]=fp[i].replace(word,word.lower())\n",
    "    import string\n",
    "    punctuations = string.punctuation\n",
    "   #do punctuations\n",
    "    for i in range(len(fp)):\n",
    "        for word in fp[i]:\n",
    "            words=[word for word in fp[i] if word.isalpha()]\n",
    "            result=''.join(words)\n",
    "    \n",
    "    def dictionary(fp):\n",
    "        words=[]\n",
    "        D={}\n",
    "        for line in fp:\n",
    "            words=words+line.split(' ')\n",
    "        for j in words:\n",
    "            if j not in D:\n",
    "                D[j]=[]\n",
    "                for i in range(len(fp)):\n",
    "                    if j in fp[i]:\n",
    "                        D[j].append(i)\n",
    "        return (D)\n",
    "    c=dictionary(fp)\n",
    "    print(c)\n",
    "    #don't need this print but just to test \n",
    "\n",
    "    return(fp)\n"
   ]
  },
  {
   "cell_type": "code",
   "execution_count": 302,
   "id": "516d8d68",
   "metadata": {},
   "outputs": [
    {
     "name": "stdout",
     "output_type": "stream",
     "text": [
      "{'try': [0], 'not': [0, 2, 3], 'to': [0, 1], 'become': [0, 4], 'a': [0, 1, 2, 3, 4, 5, 6], 'man': [0], 'of': [0, 2, 4], 'success,': [0], 'but': [0, 2], 'rather': [0], 'value.': [0], '\\n': [0, 1, 2, 3, 4, 5, 6], 'look': [1], 'deep': [1], 'into': [1], 'nature,': [1], 'and': [1, 6], 'then': [1], 'you': [1, 5], 'will': [1], 'understand': [1], 'everything': [1], 'better.\\n': [1], 'the': [0, 1, 2, 3, 6], 'true': [2], 'sign': [2], 'intelligence': [2], 'is': [2, 6], 'knowledge': [2], 'imagination.': [2], 'we': [3, 4, 6], 'cannot': [3], 'solve': [3], 'our': [3], 'problems': [3], 'with': [3], 'same': [3], 'thinking': [3], 'used': [3], 'when': [3], 'created': [3], 'them.': [3], 'weakness': [4], 'attitude': [4], 'becomes': [4], 'character.\\n': [4], \"can't\": [5], 'blame': [5], 'gravity': [5], 'for': [5], 'falling': [5], 'in': [1, 2, 3, 5], 'love.': [5], 'difference': [6], 'between': [6], 'stupidity': [6], 'genius': [6], 'that': [6], 'has': [6], 'its': [6], 'limits.': [6]}\n",
      "['try not to become a man of success, but rather try to become a man of value. \\n', 'look deep into nature, and then you will understand everything better.\\n', 'the true sign of intelligence is not knowledge but imagination. \\n', 'we cannot solve our problems with the same thinking we used when we created them. \\n', 'weakness of attitude becomes weakness of character.\\n', \"you can't blame gravity for falling in love. \\n\", 'the difference between stupidity and genius is that genius has its limits. \\n']\n"
     ]
    }
   ],
   "source": [
    "fp=open(\"einstein.txt\")\n",
    "fp=read_data(fp)\n",
    "print(fp)"
   ]
  },
  {
   "cell_type": "code",
   "execution_count": 303,
   "id": "252195df",
   "metadata": {},
   "outputs": [
    {
     "ename": "NameError",
     "evalue": "name 'x' is not defined",
     "output_type": "error",
     "traceback": [
      "\u001b[0;31m---------------------------------------------------------------------------\u001b[0m",
      "\u001b[0;31mNameError\u001b[0m                                 Traceback (most recent call last)",
      "\u001b[0;32m/var/folders/nh/264yb37x5c1bhvxqm_420lpw0000gp/T/ipykernel_84878/32546335.py\u001b[0m in \u001b[0;36m<module>\u001b[0;34m\u001b[0m\n\u001b[0;32m----> 1\u001b[0;31m \u001b[0mx\u001b[0m\u001b[0;34m\u001b[0m\u001b[0;34m\u001b[0m\u001b[0m\n\u001b[0m",
      "\u001b[0;31mNameError\u001b[0m: name 'x' is not defined"
     ]
    }
   ],
   "source": []
  },
  {
   "cell_type": "code",
   "execution_count": 347,
   "id": "5604312d",
   "metadata": {},
   "outputs": [],
   "source": [
    "def find_cooccurance(D,inp_str):\n",
    "    #fp=openfile()\n",
    "    inp_str=input(\"List of words: \")\n",
    "    inp_str([])\n",
    "    red=inp_str.intersection(c)\n",
    "    print (red)\n",
    "        #intersection vs union (two vs more than two)\n",
    "    return(D,inp_str)"
   ]
  },
  {
   "cell_type": "code",
   "execution_count": 348,
   "id": "b54c3ad1",
   "metadata": {},
   "outputs": [
    {
     "name": "stdout",
     "output_type": "stream",
     "text": [
      "{'try': [0], 'not': [0, 2, 3], 'to': [0, 1], 'become': [0, 4], 'a': [0, 1, 2, 3, 4, 5, 6], 'man': [0], 'of': [0, 2, 4], 'success,': [0], 'but': [0, 2], 'rather': [0], 'value.': [0], '\\n': [0, 1, 2, 3, 4, 5, 6], 'look': [1], 'deep': [1], 'into': [1], 'nature,': [1], 'and': [1, 6], 'then': [1], 'you': [1, 5], 'will': [1], 'understand': [1], 'everything': [1], 'better.\\n': [1], 'the': [0, 1, 2, 3, 6], 'true': [2], 'sign': [2], 'intelligence': [2], 'is': [2, 6], 'knowledge': [2], 'imagination.': [2], 'we': [3, 4, 6], 'cannot': [3], 'solve': [3], 'our': [3], 'problems': [3], 'with': [3], 'same': [3], 'thinking': [3], 'used': [3], 'when': [3], 'created': [3], 'them.': [3], 'weakness': [4], 'attitude': [4], 'becomes': [4], 'character.\\n': [4], \"can't\": [5], 'blame': [5], 'gravity': [5], 'for': [5], 'falling': [5], 'in': [1, 2, 3, 5], 'love.': [5], 'difference': [6], 'between': [6], 'stupidity': [6], 'genius': [6], 'that': [6], 'has': [6], 'its': [6], 'limits.': [6]}\n",
      "['try not to become a man of success, but rather try to become a man of value. \\n', 'look deep into nature, and then you will understand everything better.\\n', 'the true sign of intelligence is not knowledge but imagination. \\n', 'we cannot solve our problems with the same thinking we used when we created them. \\n', 'weakness of attitude becomes weakness of character.\\n', \"you can't blame gravity for falling in love. \\n\", 'the difference between stupidity and genius is that genius has its limits. \\n']\n",
      "List of words: try\n"
     ]
    },
    {
     "ename": "TypeError",
     "evalue": "'str' object is not callable",
     "output_type": "error",
     "traceback": [
      "\u001b[0;31m---------------------------------------------------------------------------\u001b[0m",
      "\u001b[0;31mTypeError\u001b[0m                                 Traceback (most recent call last)",
      "\u001b[0;32m/var/folders/nh/264yb37x5c1bhvxqm_420lpw0000gp/T/ipykernel_84878/1349601360.py\u001b[0m in \u001b[0;36m<module>\u001b[0;34m\u001b[0m\n\u001b[1;32m      2\u001b[0m \u001b[0mfp\u001b[0m\u001b[0;34m=\u001b[0m\u001b[0mread_data\u001b[0m\u001b[0;34m(\u001b[0m\u001b[0mfp\u001b[0m\u001b[0;34m)\u001b[0m\u001b[0;34m\u001b[0m\u001b[0;34m\u001b[0m\u001b[0m\n\u001b[1;32m      3\u001b[0m \u001b[0mprint\u001b[0m\u001b[0;34m(\u001b[0m\u001b[0mfp\u001b[0m\u001b[0;34m)\u001b[0m\u001b[0;34m\u001b[0m\u001b[0;34m\u001b[0m\u001b[0m\n\u001b[0;32m----> 4\u001b[0;31m \u001b[0me\u001b[0m\u001b[0;34m=\u001b[0m\u001b[0mfind_cooccurance\u001b[0m\u001b[0;34m(\u001b[0m\u001b[0mD\u001b[0m\u001b[0;34m,\u001b[0m \u001b[0minp_str\u001b[0m\u001b[0;34m)\u001b[0m\u001b[0;34m\u001b[0m\u001b[0;34m\u001b[0m\u001b[0m\n\u001b[0m\u001b[1;32m      5\u001b[0m \u001b[0mprint\u001b[0m\u001b[0;34m(\u001b[0m\u001b[0me\u001b[0m\u001b[0;34m)\u001b[0m\u001b[0;34m\u001b[0m\u001b[0;34m\u001b[0m\u001b[0m\n",
      "\u001b[0;32m/var/folders/nh/264yb37x5c1bhvxqm_420lpw0000gp/T/ipykernel_84878/639240786.py\u001b[0m in \u001b[0;36mfind_cooccurance\u001b[0;34m(D, inp_str)\u001b[0m\n\u001b[1;32m      2\u001b[0m     \u001b[0;31m#fp=openfile()\u001b[0m\u001b[0;34m\u001b[0m\u001b[0;34m\u001b[0m\u001b[0m\n\u001b[1;32m      3\u001b[0m     \u001b[0minp_str\u001b[0m\u001b[0;34m=\u001b[0m\u001b[0minput\u001b[0m\u001b[0;34m(\u001b[0m\u001b[0;34m\"List of words: \"\u001b[0m\u001b[0;34m)\u001b[0m\u001b[0;34m\u001b[0m\u001b[0;34m\u001b[0m\u001b[0m\n\u001b[0;32m----> 4\u001b[0;31m     \u001b[0minp_str\u001b[0m\u001b[0;34m(\u001b[0m\u001b[0;34m[\u001b[0m\u001b[0;34m]\u001b[0m\u001b[0;34m)\u001b[0m\u001b[0;34m\u001b[0m\u001b[0;34m\u001b[0m\u001b[0m\n\u001b[0m\u001b[1;32m      5\u001b[0m     \u001b[0mred\u001b[0m\u001b[0;34m=\u001b[0m\u001b[0minp_str\u001b[0m\u001b[0;34m.\u001b[0m\u001b[0mintersection\u001b[0m\u001b[0;34m(\u001b[0m\u001b[0mc\u001b[0m\u001b[0;34m)\u001b[0m\u001b[0;34m\u001b[0m\u001b[0;34m\u001b[0m\u001b[0m\n\u001b[1;32m      6\u001b[0m     \u001b[0mprint\u001b[0m \u001b[0;34m(\u001b[0m\u001b[0mred\u001b[0m\u001b[0;34m)\u001b[0m\u001b[0;34m\u001b[0m\u001b[0;34m\u001b[0m\u001b[0m\n",
      "\u001b[0;31mTypeError\u001b[0m: 'str' object is not callable"
     ]
    }
   ],
   "source": [
    "fp=open(\"einstein.txt\")\n",
    "fp=read_data(fp)\n",
    "print(fp)\n",
    "e=find_cooccurance(D, inp_str)\n",
    "print(e)"
   ]
  },
  {
   "cell_type": "code",
   "execution_count": 227,
   "id": "f227c13a",
   "metadata": {},
   "outputs": [],
   "source": [
    "def read_data(fp):\n",
    "    fp=fp.readlines()\n",
    "    \n",
    "    for i in range(len(fp)):\n",
    "        for word in fp[i]:\n",
    "            fp[i]=fp[i].replace(word,word.lower())\n",
    "    \n",
    "    import string\n",
    "    punctuations = string.punctuation\n",
    "   #do punctuations\n",
    "    for i in range(len(fp)):\n",
    "        for word in fp[i]:\n",
    "            words=[word for word in fp[i] if word.isalpha()]\n",
    "            result=''.join(words)\n",
    "    \n",
    "    D={}\n",
    "    for i in range(len(fp)):\n",
    "        for i, line in enumerate(lines):\n",
    "            line_num=i+1\n",
    "            line_lst=line.strip().split(' ')\n",
    "            if i in D.keys():\n",
    "                D[i].add(line_num)\n",
    "            else:\n",
    "                D[i]=set()\n",
    "                D[i].add(line_num)\n",
    "        return (D)\n",
    "\n",
    "    return(fp)"
   ]
  },
  {
   "cell_type": "code",
   "execution_count": 228,
   "id": "ee53d1e2",
   "metadata": {},
   "outputs": [
    {
     "name": "stdout",
     "output_type": "stream",
     "text": [
      "{}\n"
     ]
    }
   ],
   "source": [
    "fp=open(\"einstein.txt\")\n",
    "fp=read_data(fp)\n",
    "print(fp)"
   ]
  },
  {
   "cell_type": "code",
   "execution_count": 187,
   "id": "513f9b15",
   "metadata": {},
   "outputs": [],
   "source": [
    "def read_data(fp):\n",
    "    lines=fp.readlines()\n",
    "    import string\n",
    "    punctuations = string.punctuation\n",
    "    punc=[]\n",
    "    D=()\n",
    "    \n",
    "    lines=lines.translate(None, string.punctuation)\n",
    "    for i, line in enumerate(lines):\n",
    "        line=line.lower()\n",
    "        line_num=i+1\n",
    "        line_lst=line.strip().split(' ')\n",
    "        if j in D.keys():\n",
    "            D[j].add(line_num)\n",
    "        else:\n",
    "            D[j]=set()\n",
    "            D[j].add(line_num)\n",
    "    return D\n",
    "    print(D)\n"
   ]
  },
  {
   "cell_type": "code",
   "execution_count": 184,
   "id": "237a5e65",
   "metadata": {},
   "outputs": [
    {
     "name": "stdout",
     "output_type": "stream",
     "text": [
      "['Try not to become a man of success, but rather try to become a man of value. \\n', 'Look deep into nature, and then you will understand everything better.\\n', 'The true sign of intelligence is not knowledge but imagination. \\n', 'We cannot solve our problems with the same thinking we used when we created them. \\n', 'Weakness of attitude becomes weakness of character.\\n', \"You can't blame gravity for falling in love. \\n\", 'The difference between stupidity and genius is that genius has its limits. \\n']\n"
     ]
    },
    {
     "ename": "NameError",
     "evalue": "name 'i' is not defined",
     "output_type": "error",
     "traceback": [
      "\u001b[0;31m---------------------------------------------------------------------------\u001b[0m",
      "\u001b[0;31mNameError\u001b[0m                                 Traceback (most recent call last)",
      "\u001b[0;32m/var/folders/nh/264yb37x5c1bhvxqm_420lpw0000gp/T/ipykernel_84878/1437073313.py\u001b[0m in \u001b[0;36m<module>\u001b[0;34m\u001b[0m\n\u001b[1;32m      2\u001b[0m \u001b[0mlines\u001b[0m\u001b[0;34m=\u001b[0m\u001b[0mfp\u001b[0m\u001b[0;34m.\u001b[0m\u001b[0mreadlines\u001b[0m\u001b[0;34m(\u001b[0m\u001b[0;34m)\u001b[0m\u001b[0;34m\u001b[0m\u001b[0;34m\u001b[0m\u001b[0m\n\u001b[1;32m      3\u001b[0m \u001b[0mprint\u001b[0m\u001b[0;34m(\u001b[0m\u001b[0mlines\u001b[0m\u001b[0;34m)\u001b[0m\u001b[0;34m\u001b[0m\u001b[0;34m\u001b[0m\u001b[0m\n\u001b[0;32m----> 4\u001b[0;31m \u001b[0mprint\u001b[0m\u001b[0;34m(\u001b[0m\u001b[0mlines\u001b[0m\u001b[0;34m[\u001b[0m\u001b[0mi\u001b[0m\u001b[0;34m]\u001b[0m\u001b[0;34m)\u001b[0m\u001b[0;34m\u001b[0m\u001b[0;34m\u001b[0m\u001b[0m\n\u001b[0m",
      "\u001b[0;31mNameError\u001b[0m: name 'i' is not defined"
     ]
    }
   ],
   "source": [
    "fp=open(\"einstein.txt\")\n",
    "lines=fp.readlines()\n",
    "print(lines)\n",
    "print(lines[i])"
   ]
  },
  {
   "cell_type": "code",
   "execution_count": null,
   "id": "503471c0",
   "metadata": {},
   "outputs": [],
   "source": [
    "def read_data(f):\n",
    "    fp=f.read().replace(\"\\n\",\"\").split(' ')"
   ]
  },
  {
   "cell_type": "code",
   "execution_count": null,
   "id": "0be0926b",
   "metadata": {},
   "outputs": [],
   "source": [
    "inp_str=input('enter word')\n",
    "with open (name, 'r') as inF:\n",
    "    if word in line:\n",
    "        count+=1\n",
    "        "
   ]
  },
  {
   "cell_type": "code",
   "execution_count": 14,
   "id": "8220877c",
   "metadata": {
    "scrolled": true
   },
   "outputs": [
    {
     "ename": "SyntaxError",
     "evalue": "invalid syntax (1215816272.py, line 3)",
     "output_type": "error",
     "traceback": [
      "\u001b[0;36m  File \u001b[0;32m\"/var/folders/nh/264yb37x5c1bhvxqm_420lpw0000gp/T/ipykernel_84878/1215816272.py\"\u001b[0;36m, line \u001b[0;32m3\u001b[0m\n\u001b[0;31m    if word len<2:\u001b[0m\n\u001b[0m            ^\u001b[0m\n\u001b[0;31mSyntaxError\u001b[0m\u001b[0;31m:\u001b[0m invalid syntax\n"
     ]
    }
   ],
   "source": [
    "data=('sun', 'jump', 'go')\n",
    "for word in data:\n",
    "    if word len<2:\n",
    "        del(word)\n",
    "print(data)"
   ]
  },
  {
   "cell_type": "code",
   "execution_count": 16,
   "id": "d804e0cb",
   "metadata": {},
   "outputs": [
    {
     "ename": "AttributeError",
     "evalue": "'tuple' object has no attribute 'replace'",
     "output_type": "error",
     "traceback": [
      "\u001b[0;31m---------------------------------------------------------------------------\u001b[0m",
      "\u001b[0;31mAttributeError\u001b[0m                            Traceback (most recent call last)",
      "\u001b[0;32m/var/folders/nh/264yb37x5c1bhvxqm_420lpw0000gp/T/ipykernel_84878/716644537.py\u001b[0m in \u001b[0;36m<module>\u001b[0;34m\u001b[0m\n\u001b[1;32m      2\u001b[0m \u001b[0;32mfor\u001b[0m \u001b[0mword\u001b[0m \u001b[0;32min\u001b[0m \u001b[0mdata\u001b[0m\u001b[0;34m:\u001b[0m\u001b[0;34m\u001b[0m\u001b[0;34m\u001b[0m\u001b[0m\n\u001b[1;32m      3\u001b[0m     \u001b[0;32mif\u001b[0m \u001b[0mword\u001b[0m\u001b[0;34m.\u001b[0m\u001b[0misalpha\u001b[0m\u001b[0;34m(\u001b[0m\u001b[0;34m)\u001b[0m \u001b[0;34m==\u001b[0m \u001b[0;32mFalse\u001b[0m\u001b[0;34m:\u001b[0m\u001b[0;34m\u001b[0m\u001b[0;34m\u001b[0m\u001b[0m\n\u001b[0;32m----> 4\u001b[0;31m         \u001b[0mdata\u001b[0m\u001b[0;34m=\u001b[0m\u001b[0mdata\u001b[0m\u001b[0;34m.\u001b[0m\u001b[0mreplace\u001b[0m\u001b[0;34m(\u001b[0m\u001b[0mword\u001b[0m\u001b[0;34m,\u001b[0m\u001b[0;34m\"\"\u001b[0m\u001b[0;34m)\u001b[0m\u001b[0;34m\u001b[0m\u001b[0;34m\u001b[0m\u001b[0m\n\u001b[0m\u001b[1;32m      5\u001b[0m \u001b[0mprint\u001b[0m\u001b[0;34m(\u001b[0m\u001b[0mdata\u001b[0m\u001b[0;34m)\u001b[0m\u001b[0;34m\u001b[0m\u001b[0;34m\u001b[0m\u001b[0m\n",
      "\u001b[0;31mAttributeError\u001b[0m: 'tuple' object has no attribute 'replace'"
     ]
    }
   ],
   "source": [
    "data=('sun', 'jump', 'go', 'thank-you')\n",
    "for word in data:\n",
    "    if word.isalpha() == False:\n",
    "        data=data.replace(word,\"\")\n",
    "print(data)"
   ]
  },
  {
   "cell_type": "code",
   "execution_count": 50,
   "id": "839d986b",
   "metadata": {},
   "outputs": [
    {
     "name": "stdout",
     "output_type": "stream",
     "text": [
      "try not to become a man of success, but rather try to become a man of value. \n",
      "\n",
      "look deep into nature, and then you will understand everything better.\n",
      "\n",
      "the true sign of intelligence is not knowledge but imagination. \n",
      "\n",
      "we cannot solve our problems with the same thinking we used when we created them. \n",
      "\n",
      "weakness of attitude becomes weakness of character.\n",
      "\n",
      "you can't blame gravity for falling in love. \n",
      "\n",
      "the difference between stupidity and genius is that genius has its limits. \n",
      "\n"
     ]
    }
   ],
   "source": [
    "with open(\"einstein.txt\", \"r\") as fileinput:\n",
    "    for line in fileinput:\n",
    "        line=line.lower()\n",
    "        print(line)"
   ]
  },
  {
   "cell_type": "code",
   "execution_count": 23,
   "id": "59a7463f",
   "metadata": {
    "scrolled": true
   },
   "outputs": [
    {
     "name": "stdout",
     "output_type": "stream",
     "text": [
      "['try', 'not', 'to', 'become', 'a', 'man', 'of', 'success,', 'but', 'rather', 'try', 'to', 'become', 'a', 'man', 'of', 'value.']\n",
      "['look', 'deep', 'into', 'nature,', 'and', 'then', 'you', 'will', 'understand', 'everything', 'better.']\n",
      "['the', 'true', 'sign', 'of', 'intelligence', 'is', 'not', 'knowledge', 'but', 'imagination.']\n",
      "['we', 'cannot', 'solve', 'our', 'problems', 'with', 'the', 'same', 'thinking', 'we', 'used', 'when', 'we', 'created', 'them.']\n",
      "['weakness', 'of', 'attitude', 'becomes', 'weakness', 'of', 'character.']\n",
      "['you', \"can't\", 'blame', 'gravity', 'for', 'falling', 'in', 'love.']\n",
      "['the', 'difference', 'between', 'stupidity', 'and', 'genius', 'is', 'that', 'genius', 'has', 'its', 'limits.']\n"
     ]
    }
   ],
   "source": [
    "with open(\"einstein.txt\", \"r\") as fileinput:\n",
    "    for line in fileinput:\n",
    "        line=line.lower()\n",
    "        print(line.split())"
   ]
  },
  {
   "cell_type": "code",
   "execution_count": 41,
   "id": "e019b9ca",
   "metadata": {},
   "outputs": [
    {
     "name": "stdout",
     "output_type": "stream",
     "text": [
      "Try not to become a man of success, but rather try to become a man of value. \n",
      "Look deep into nature, and then you will understand everything better.\n",
      "The true sign of intelligence is not knowledge but imagination. \n",
      "We cannot solve our problems with the same thinking we used when we created them. \n",
      "Weakness of attitude becomes weakness of character.\n",
      "You can't blame gravity for falling in love. \n",
      "The difference between stupidity and genius is that genius has its limits. \n",
      "\n"
     ]
    }
   ],
   "source": [
    "import collections \n",
    "import string \n",
    "res=[]\n",
    "for word in \"einstein.txt\":\n",
    "    if not word.isalpha():\n",
    "        res.append(word[:-1])\n",
    "        break\n",
    "    else:\n",
    "        f=open(\"einstein.txt\", \"r\")\n",
    "        print(f.read())\n",
    "        break"
   ]
  },
  {
   "cell_type": "code",
   "execution_count": 45,
   "id": "da3f3389",
   "metadata": {},
   "outputs": [
    {
     "name": "stdout",
     "output_type": "stream",
     "text": [
      "['einstein.txt']\n"
     ]
    }
   ],
   "source": [
    "words=(\"einstein.txt\", \"r\")\n",
    "result_words=[x for x in words if len(x)>3]\n",
    "print(result_words)"
   ]
  },
  {
   "cell_type": "code",
   "execution_count": null,
   "id": "63393ec2",
   "metadata": {},
   "outputs": [],
   "source": [
    "f=open(\"einstein.txt\", \"r\")\n",
    "for x in f.read():\n",
    "    y=x.lower()\n",
    "    f1=open(\"eintstein2.txt\", \"a\")\n",
    "    f1.write(y)"
   ]
  },
  {
   "cell_type": "code",
   "execution_count": null,
   "id": "9de9d0f3",
   "metadata": {},
   "outputs": [],
   "source": [
    "def find_cooccurance():\n",
    "    #insert dictionary code from read file so the dictionarry is a part of it\n",
    "    def inp_str():\n",
    "        wordslist=input(\"List of words: \")\n",
    "        while words >= 0:\n",
    "            wordslist.split()\n",
    "            #find line number of each word\n",
    "        #intersection vs union (two vs more than two)\n",
    "find_cooccurance(D, inp_str)\n"
   ]
  },
  {
   "cell_type": "code",
   "execution_count": 117,
   "id": "b6260823",
   "metadata": {},
   "outputs": [],
   "source": [
    "def read_data(fp):\n",
    "    lines=fp.readlines()\n",
    "    dic=defaultdict(set)\n",
    "    D=()\n",
    "    ctr=0\n",
    "    while True:\n",
    "        ctr+=1\n",
    "        lines=fp.readline()\n",
    "        if len(lines)==0:\n",
    "            break\n",
    "        for word in D:\n",
    "            dic[w].add(ctr)\n",
    "        return dict(dic)\n",
    "        "
   ]
  },
  {
   "cell_type": "code",
   "execution_count": 118,
   "id": "35c44593",
   "metadata": {},
   "outputs": [
    {
     "name": "stdout",
     "output_type": "stream",
     "text": [
      "['Try not to become a man of success, but rather try to become a man of value. \\n', 'Look deep into nature, and then you will understand everything better.\\n', 'The true sign of intelligence is not knowledge but imagination. \\n', 'We cannot solve our problems with the same thinking we used when we created them. \\n', 'Weakness of attitude becomes weakness of character.\\n', \"You can't blame gravity for falling in love. \\n\", 'The difference between stupidity and genius is that genius has its limits. \\n']\n"
     ]
    }
   ],
   "source": [
    "fp=open(\"einstein.txt\")\n",
    "lines=fp.readlines()\n",
    "print(lines)"
   ]
  },
  {
   "cell_type": "code",
   "execution_count": null,
   "id": "4e8c3fca",
   "metadata": {},
   "outputs": [],
   "source": [
    "  for i, line in enumerate(lines):\n",
    "        line_num=i+1\n",
    "        line_lst=line.strip().split(' ')\n",
    "    if j in D.keys():\n",
    "        D[j].add(line_num)\n",
    "    else:\n",
    "        D[j]=set()\n",
    "        D[j].add(line_num)"
   ]
  },
  {
   "cell_type": "code",
   "execution_count": 326,
   "id": "005e1ab3",
   "metadata": {},
   "outputs": [
    {
     "ename": "SyntaxError",
     "evalue": "cannot assign to function call (3223001366.py, line 5)",
     "output_type": "error",
     "traceback": [
      "\u001b[0;36m  File \u001b[0;32m\"/var/folders/nh/264yb37x5c1bhvxqm_420lpw0000gp/T/ipykernel_84878/3223001366.py\"\u001b[0;36m, line \u001b[0;32m5\u001b[0m\n\u001b[0;31m    inp_str()=input(\"List of words: \")\u001b[0m\n\u001b[0m    ^\u001b[0m\n\u001b[0;31mSyntaxError\u001b[0m\u001b[0;31m:\u001b[0m cannot assign to function call\n"
     ]
    }
   ],
   "source": [
    "\n",
    "def find_cooccurance(D, inp_str):\n",
    "    #incert dictionary code\n",
    "    inp_lst=inp_str.strip().split(' ')\n",
    "    print(\",\".join(str(e) for e in D))\n",
    "    inp_str=input(\"List of words: \")\n",
    "    inp_str.split()\n",
    "    red=D.intersection(fp)\n",
    "    print(red)\n",
    "    \n"
   ]
  },
  {
   "cell_type": "code",
   "execution_count": null,
   "id": "728e990c",
   "metadata": {},
   "outputs": [],
   "source": [
    "def main():\n",
    "    fp=open_file()\n",
    "    D=read_data(fp)\n",
    "    inp=input('Enter space-seperated words:')\n",
    "    \n",
    "    \n",
    "    while inp_str.lower() != 'q':\n",
    "        in"
   ]
  }
 ],
 "metadata": {
  "kernelspec": {
   "display_name": "Python 3 (ipykernel)",
   "language": "python",
   "name": "python3"
  },
  "language_info": {
   "codemirror_mode": {
    "name": "ipython",
    "version": 3
   },
   "file_extension": ".py",
   "mimetype": "text/x-python",
   "name": "python",
   "nbconvert_exporter": "python",
   "pygments_lexer": "ipython3",
   "version": "3.9.7"
  }
 },
 "nbformat": 4,
 "nbformat_minor": 5
}
